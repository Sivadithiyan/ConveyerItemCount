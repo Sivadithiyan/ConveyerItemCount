{
 "cells": [
  {
   "cell_type": "code",
   "execution_count": 4,
   "id": "09601865",
   "metadata": {},
   "outputs": [],
   "source": [
    "import cv2\n",
    "import numpy as np\n",
    "\n",
    "img = cv2.imread('test1.jpg')\n",
    "\n",
    "img = cv2.cvtColor(img, cv2.COLOR_BGR2GRAY)\n",
    "\n",
    "_, thresh = cv2.threshold(img, 225, 255, cv2.THRESH_BINARY_INV)\n",
    "kernel = np.ones((2, 2), np.uint8)\n",
    "\n",
    "dilation = cv2.dilate(thresh, kernel, iterations=2)\n",
    "\n",
    "contours, hierarchy = cv2.findContours(dilation, cv2.RETR_EXTERNAL, cv2.CHAIN_APPROX_SIMPLE)\n",
    "\n",
    "objects = str(len(contours))\n",
    "\n",
    "text = \"Obj:\"+str(objects)\n",
    "cv2.putText(dilation, text, (10, 25),cv2.FONT_HERSHEY_SIMPLEX,0.4, (240, 0, 159), 1)\n",
    "\n",
    "\n",
    "cv2.imshow('Result', dilation)\n",
    "\n",
    "cv2.waitKey(0)\n",
    "cv2.destroyAllWindows()\n"
   ]
  },
  {
   "cell_type": "code",
   "execution_count": null,
   "id": "a4e28c4e",
   "metadata": {},
   "outputs": [],
   "source": []
  },
  {
   "cell_type": "code",
   "execution_count": null,
   "id": "919f29b4",
   "metadata": {},
   "outputs": [],
   "source": []
  }
 ],
 "metadata": {
  "kernelspec": {
   "display_name": "Python 3",
   "language": "python",
   "name": "python3"
  },
  "language_info": {
   "codemirror_mode": {
    "name": "ipython",
    "version": 3
   },
   "file_extension": ".py",
   "mimetype": "text/x-python",
   "name": "python",
   "nbconvert_exporter": "python",
   "pygments_lexer": "ipython3",
   "version": "3.8.8"
  }
 },
 "nbformat": 4,
 "nbformat_minor": 5
}
