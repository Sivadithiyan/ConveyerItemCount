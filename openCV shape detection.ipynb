{
 "cells": [
  {
   "cell_type": "code",
   "execution_count": 1,
   "id": "bd69f8e3",
   "metadata": {},
   "outputs": [
    {
     "name": "stdout",
     "output_type": "stream",
     "text": [
      "1.625\n"
     ]
    },
    {
     "data": {
      "text/plain": [
       "-1"
      ]
     },
     "execution_count": 1,
     "metadata": {},
     "output_type": "execute_result"
    }
   ],
   "source": [
    "import cv2\n",
    "import numpy as np\n",
    "\n",
    "#Image Reading\n",
    "image = cv2.imread(\"shapes.jpg\")\n",
    "\n",
    "\n",
    "#Gray Scaling the image\n",
    "gray_image = cv2.cvtColor(image, cv2.COLOR_BGR2GRAY) # Converting to gray image\n",
    "\n",
    "\n",
    "\n",
    "#Setting threshold to the new gray image\n",
    "_, thresh_image = cv2.threshold(gray_image, 220, 255, cv2.THRESH_BINARY)\n",
    "\n",
    "#Finding Contours\n",
    "contours, hierarchy= cv2.findContours(thresh_image, cv2.RETR_TREE, cv2.CHAIN_APPROX_SIMPLE)\n",
    "\n",
    "# Lopping through the image to find each contour\n",
    "for i, contour in enumerate(contours):\n",
    "    \n",
    "    if i == 0: #During the first iteration, the image is considered as a contour so skip the first check\n",
    "        continue\n",
    "        \n",
    "    epsilon = 0.01*cv2.arcLength(contour, True) #Precision\n",
    "    approx = cv2.approxPolyDP(contour, epsilon, True) #Approximating the shape of the contour with the given precision\n",
    "    \n",
    "    #Draw the outer around the edge of the contour\n",
    "    cv2.drawContours(image, contour, 0, (0, 0, 0), 4)\n",
    "    \n",
    "    #Coords where the text appears (For understanding the shape\n",
    "    \n",
    "    x, y, w, h= cv2.boundingRect(approx)\n",
    "    x_mid = int(x + (w/3)) #Middle point of x axis\n",
    "    y_mid = int(y + (h/1.5)) # Middle point of y axis\n",
    "\n",
    "    # Parameters to putText()\n",
    "    coords = (x_mid, y_mid)\n",
    "    colour = (0, 0, 0)\n",
    "    font = cv2.FONT_HERSHEY_DUPLEX\n",
    "    \n",
    "    #Logic\n",
    "    \n",
    "    if len(approx) == 3:\n",
    "        cv2.putText(image, \"Triangle\", coords, font, 1, colour, 1)\n",
    "        \n",
    "        \n",
    "    elif len(approx) == 4:\n",
    "        \n",
    "        x1 ,y1, w, h = cv2.boundingRect(approx)\n",
    "        aspectRatio = float(w)/h\n",
    "        print(aspectRatio)\n",
    "        if aspectRatio >= 0.95 and aspectRatio <= 1.05:\n",
    "          cv2.putText(image, \"Square\", (x, y), cv2.FONT_HERSHEY_COMPLEX, 1, (0, 0, 0))\n",
    "        else:\n",
    "          cv2.putText(image, \"Rectangle\", (x, y), cv2.FONT_HERSHEY_COMPLEX, 1, (0, 0, 0))\n",
    "        \n",
    "        \n",
    "    elif len(approx) == 5:\n",
    "        cv2.putText(image, \"Pentagon\", coords, font, 1, colour, 1)\n",
    "        \n",
    "        \n",
    "    elif len(approx) == 6:\n",
    "        cv2.putText(image, \"Hexagon\", coords, font, 1, colour, 1)\n",
    "        \n",
    "    elif len(approx) == 8:\n",
    "        cv2.putText(image, \"Octagon\", coords, font, 1, colour, 1)\n",
    "        \n",
    "        \n",
    "    else:\n",
    "        # Circle as last resort\n",
    "        cv2.putText(image, \"Circle\", coords, font, 1, colour, 1)\n",
    "    \n",
    "# Display the image\n",
    "cv2.imshow(\"shapes_detected\", image)\n",
    "cv2.waitKey(0)"
   ]
  },
  {
   "cell_type": "code",
   "execution_count": null,
   "id": "5687d8c9",
   "metadata": {},
   "outputs": [],
   "source": []
  }
 ],
 "metadata": {
  "kernelspec": {
   "display_name": "Python 3",
   "language": "python",
   "name": "python3"
  },
  "language_info": {
   "codemirror_mode": {
    "name": "ipython",
    "version": 3
   },
   "file_extension": ".py",
   "mimetype": "text/x-python",
   "name": "python",
   "nbconvert_exporter": "python",
   "pygments_lexer": "ipython3",
   "version": "3.8.8"
  }
 },
 "nbformat": 4,
 "nbformat_minor": 5
}
